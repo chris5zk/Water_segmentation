{
  "cells": [
    {
      "cell_type": "code",
      "execution_count": null,
      "metadata": {
        "id": "9Za2vhPlhHyp"
      },
      "outputs": [],
      "source": [
        "import os\n",
        "import keras\n",
        "from tqdm import tqdm\n",
        "from glob import glob\n",
        "import tensorflow as tf\n",
        "from numpy import zeros\n",
        "from numpy.random import randint\n",
        "\n",
        "# Data\n",
        "from tensorflow.image import resize\n",
        "from keras.preprocessing.image import load_img, img_to_array\n",
        "\n",
        "# Data Viz\n",
        "import matplotlib.pyplot as plt\n",
        "\n",
        "# Model\n",
        "from keras.layers import add\n",
        "from keras.layers import Input\n",
        "from keras.layers import Layer\n",
        "from keras.layers import Conv2D\n",
        "from keras.layers import multiply\n",
        "from keras.layers import concatenate\n",
        "from keras.layers import Conv2DTranspose\n",
        "from keras.layers import MaxPool2D\n",
        "from keras.layers import UpSampling2D\n",
        "from keras.layers import BatchNormalization\n",
        "from keras.layers import Dropout\n",
        "from keras.models import load_model\n",
        "# Model Functions\n",
        "from keras.models import Model\n",
        "from tensorflow.keras.utils import plot_model\n",
        "from keras.callbacks import Callback, ModelCheckpoint"
      ]
    },
    {
      "cell_type": "code",
      "execution_count": null,
      "metadata": {
        "id": "xMOqYY_xhdgo"
      },
      "outputs": [],
      "source": [
        "def load_image(path):\n",
        "    img = resize(img_to_array(load_img(path))/255., (256,256))\n",
        "    return img"
      ]
    },
    {
      "cell_type": "code",
      "execution_count": null,
      "metadata": {
        "colab": {
          "base_uri": "https://localhost:8080/"
        },
        "id": "1zM_M916kU6D",
        "outputId": "8a0b4998-82fb-4941-a3fe-fab3d78ba042"
      },
      "outputs": [
        {
          "output_type": "stream",
          "name": "stdout",
          "text": [
            "Total Number of Images : 300\n"
          ]
        }
      ],
      "source": [
        "image_path = \"drive/MyDrive/better_dataset/image\"\n",
        "total_images = len(os.listdir(image_path))\n",
        "print(f\"Total Number of Images : {total_images}\")"
      ]
    },
    {
      "cell_type": "code",
      "execution_count": null,
      "metadata": {
        "id": "fARCWkDflBeQ"
      },
      "outputs": [],
      "source": [
        "all_image_paths = sorted(glob(image_path + \"/*.jpg\"))"
      ]
    },
    {
      "cell_type": "code",
      "execution_count": null,
      "metadata": {
        "id": "mR9CoBV-lQ3i"
      },
      "outputs": [],
      "source": [
        "def load_data(paths):\n",
        "    images = zeros(shape=(len(paths), 256,256,3))\n",
        "    masks = zeros(shape=(len(paths), 256,256,3))\n",
        "    for i, path in tqdm(enumerate(paths), desc=\"Loading\"):\n",
        "        image = load_image(path)\n",
        "        images[i] = image\n",
        "\n",
        "        mask_path = path.replace(\"image\", \"mask\")\n",
        "        mask = load_image(mask_path)\n",
        "        masks[i] = mask\n",
        "    return images, masks"
      ]
    },
    {
      "cell_type": "code",
      "execution_count": null,
      "metadata": {
        "colab": {
          "base_uri": "https://localhost:8080/"
        },
        "id": "Mlfl-s1RlZGk",
        "outputId": "70362d74-ec99-47ce-d93f-93b2f9330368"
      },
      "outputs": [
        {
          "output_type": "stream",
          "name": "stderr",
          "text": [
            "Loading: 240it [01:22,  2.89it/s]\n"
          ]
        }
      ],
      "source": [
        "train_paths = all_image_paths[:240]\n",
        "X_train, y_train = load_data(train_paths)"
      ]
    },
    {
      "cell_type": "code",
      "execution_count": null,
      "metadata": {
        "id": "KvfRTtM6m8ET",
        "colab": {
          "base_uri": "https://localhost:8080/"
        },
        "outputId": "f6e15300-44e0-49a8-b366-035b7e30f8ac"
      },
      "outputs": [
        {
          "output_type": "stream",
          "name": "stderr",
          "text": [
            "Loading: 60it [00:17,  3.40it/s]\n"
          ]
        }
      ],
      "source": [
        "val_paths = all_image_paths[240:]\n",
        "X_val, y_val = load_data(val_paths)"
      ]
    },
    {
      "cell_type": "code",
      "execution_count": null,
      "metadata": {
        "id": "pu3JT5O9nHk2"
      },
      "outputs": [],
      "source": [
        "def show_image(image, title=None):\n",
        "    plt.imshow(image)\n",
        "    plt.title(title)\n",
        "    plt.axis('off')"
      ]
    },
    {
      "cell_type": "code",
      "execution_count": null,
      "metadata": {
        "id": "yRjGfPxinvOv"
      },
      "outputs": [],
      "source": [
        "class Encoder(Layer):\n",
        "\n",
        "    def __init__(self, filters, rate, pooling=True, **kwargs):\n",
        "        super(Encoder, self).__init__(**kwargs)\n",
        "\n",
        "        self.filters = filters\n",
        "        self.rate = rate\n",
        "        self.pooling = pooling\n",
        "\n",
        "        self.bn = BatchNormalization()\n",
        "        self.c1 = Conv2D(filters, kernel_size=3, padding='same', activation='relu', kernel_initializer=\"he_normal\")\n",
        "        self.drop = Dropout(rate)\n",
        "        self.c2 = Conv2D(filters, kernel_size=3, padding='same', activation='relu', kernel_initializer=\"he_normal\")\n",
        "        self.pool = MaxPool2D()\n",
        "\n",
        "    def call(self, X):\n",
        "        x = self.bn(X)\n",
        "        x = self.c1(x)\n",
        "        x = self.drop(x)\n",
        "        x = self.c2(x)\n",
        "        if self.pooling:\n",
        "            y = self.pool(x)\n",
        "            return y, x\n",
        "        else:\n",
        "            return x\n",
        "\n",
        "    def get_config(self):\n",
        "        base_config = super().get_config()\n",
        "        return {\n",
        "            **base_config,\n",
        "            \"filters\":self.filters,\n",
        "            \"rate\":self.rate,\n",
        "            \"pooling\":self.pooling\n",
        "        }"
      ]
    },
    {
      "cell_type": "code",
      "execution_count": null,
      "metadata": {
        "id": "sLpxwo3yn1mZ"
      },
      "outputs": [],
      "source": [
        "class Decoder(Layer):\n",
        "\n",
        "    def __init__(self, filters, rate, **kwargs):\n",
        "        super(Decoder, self).__init__(**kwargs)\n",
        "\n",
        "        self.filters = filters\n",
        "        self.rate = rate\n",
        "\n",
        "        self.bn = BatchNormalization()\n",
        "        self.cT = Conv2DTranspose(filters, kernel_size=3, strides=2, padding='same', activation='relu', kernel_initializer=\"he_normal\")\n",
        "        self.net = Encoder(filters, rate, pooling=False)\n",
        "\n",
        "    def call(self, X):\n",
        "        x, skip_x = X\n",
        "        x = self.bn(x)\n",
        "        x = self.cT(x)\n",
        "        x = concatenate([x, skip_x])\n",
        "        x = self.net(x)\n",
        "        return x\n",
        "\n",
        "    def get_config(self):\n",
        "        base_config = super().get_config()\n",
        "        return {\n",
        "            **base_config,\n",
        "            \"filters\":self.filters,\n",
        "            \"rate\":self.rate,\n",
        "        }"
      ]
    },
    {
      "cell_type": "code",
      "execution_count": null,
      "metadata": {
        "id": "ubVjsYIcn5qU"
      },
      "outputs": [],
      "source": [
        "unet_inputs = Input(shape=(256,256,3), name=\"UNetInput\")\n",
        "\n",
        "# Encoder Network : Downsampling phase\n",
        "p1, c1 = Encoder(64, 0.1, name=\"Encoder1\")(unet_inputs)\n",
        "p2, c2 = Encoder(128, 0.1, name=\"Encoder2\")(p1)\n",
        "p3, c3 = Encoder(256, 0.2, name=\"Encoder3\")(p2)\n",
        "p4, c4 = Encoder(512, 0.2, name=\"Encoder4\")(p3)\n",
        "\n",
        "\n",
        "# Encoding Layer : Latent Representation\n",
        "e = Encoder(512, 0.3, pooling=False)(p4)\n",
        "\n",
        "# Attention + Decoder Network : Upsampling phase.\n",
        "d1 = Decoder(512, 0.2, name=\"Decoder1\")([e, c4])\n",
        "d2 = Decoder(256, 0.2, name=\"Decoder2\")([d1, c3])\n",
        "d3 = Decoder(128, 0.1, name=\"Decoder3\")([d2, c2])\n",
        "d4 = Decoder(64, 0.1, name=\"Decoder4\")([d3, c1])\n",
        "\n",
        "# Output\n",
        "unet_out = Conv2D(3, kernel_size=3, padding='same', activation='sigmoid')(d4)\n",
        "\n",
        "# Model\n",
        "UNet = Model(\n",
        "    inputs=unet_inputs,\n",
        "    outputs=unet_out,\n",
        "    name=\"AttentionUNet\"\n",
        ")\n",
        "\n",
        "# Compiling\n",
        "UNet.compile(\n",
        "    loss='binary_crossentropy',\n",
        "    optimizer='adam'\n",
        ")"
      ]
    },
    {
      "cell_type": "code",
      "execution_count": null,
      "metadata": {
        "id": "2gMjsCfVoN01"
      },
      "outputs": [],
      "source": [
        "BATCH_SIZE = 16\n",
        "SPE = len(X_train)//BATCH_SIZE"
      ]
    },
    {
      "cell_type": "code",
      "execution_count": null,
      "metadata": {
        "id": "hL7N8817oUgJ"
      },
      "outputs": [],
      "source": [
        "class ShowProgress(Callback):\n",
        "    def on_epoch_end(self, epoch, logs=None):\n",
        "        id = randint(len(X_val))\n",
        "        image = X_val[id]\n",
        "        mask = y_val[id]\n",
        "        pred_mask = self.model(tf.expand_dims(image,axis=0))[0]\n",
        "\n",
        "        plt.figure(figsize=(10,8))\n",
        "        plt.subplot(1,3,1)\n",
        "        show_image(image, title=\"Original Image\")\n",
        "\n",
        "        plt.subplot(1,3,2)\n",
        "        show_image(mask, title=\"Original Mask\")\n",
        "\n",
        "        plt.subplot(1,3,3)\n",
        "        show_image(pred_mask, title=\"Predicted Mask\")\n",
        "\n",
        "        plt.tight_layout()\n",
        "        plt.show()"
      ]
    },
    {
      "cell_type": "code",
      "execution_count": null,
      "metadata": {
        "id": "FbnRzyPZoVvn"
      },
      "outputs": [],
      "source": [
        "cbs = [\n",
        "    ModelCheckpoint('drive/MyDrive/training_dataset/segmodel.h5', save_best_only=True),\n",
        "    ShowProgress()\n",
        "]"
      ]
    },
    {
      "cell_type": "code",
      "execution_count": null,
      "metadata": {
        "id": "DOg7dyl9oZNV"
      },
      "outputs": [],
      "source": [
        "UNet.fit(\n",
        "    X_train, y_train,\n",
        "    epochs=30,\n",
        "    batch_size=BATCH_SIZE,\n",
        "    steps_per_epoch=SPE,\n",
        "    validation_data=(X_val, y_val),\n",
        "    callbacks=cbs\n",
        ")"
      ]
    },
    {
      "cell_type": "code",
      "source": [
        "UNet.load_weights('drive/MyDrive/training_dataset/segmodel.h5')"
      ],
      "metadata": {
        "id": "zN5LZru6v9RN"
      },
      "execution_count": null,
      "outputs": []
    },
    {
      "cell_type": "code",
      "source": [
        "for id in range(300):\n",
        "    #id = randint(len(X_train))\n",
        "    image = X_train[id]\n",
        "    mask = y_train[id]\n",
        "    pred_mask = UNet.predict(tf.expand_dims(image,axis=0))[0]\n",
        "    post_process = (pred_mask[:,:,0] > 0.7).astype('uint')\n",
        "\n",
        "    plt.figure(figsize=(10,8))\n",
        "    plt.subplot(1,4,1)\n",
        "    show_image(image, title=\"Original Image\")\n",
        "\n",
        "    plt.subplot(1,4,2)\n",
        "    show_image(mask, title=\"Original Mask\")\n",
        "\n",
        "    plt.subplot(1,4,3)\n",
        "    show_image(pred_mask, title=\"Predicted Mask\")\n",
        "\n",
        "    plt.subplot(1,4,4)\n",
        "    show_image(post_process, title=\"Post=Processed Mask\")\n",
        "    plt.imshow(post_process, cmap='gray')\n",
        "\n",
        "    plt.tight_layout()\n",
        "    plt.show()"
      ],
      "metadata": {
        "id": "HbOTU7Gi9tF_"
      },
      "execution_count": null,
      "outputs": []
    }
  ],
  "metadata": {
    "colab": {
      "provenance": []
    },
    "kernelspec": {
      "display_name": "Python 3",
      "name": "python3"
    },
    "language_info": {
      "name": "python"
    }
  },
  "nbformat": 4,
  "nbformat_minor": 0
}